{
 "cells": [
  {
   "cell_type": "markdown",
   "metadata": {},
   "source": [
    "Tukaj navodila kako instalirati j_lab iz https://towardsdatascience.com/how-to-set-up-anaconda-and-jupyter-notebook-the-right-way-de3b7623ea4a "
   ]
  },
  {
   "cell_type": "code",
   "execution_count": null,
   "metadata": {},
   "outputs": [],
   "source": [
    "conda install -c conda-forge jupyterlab\n",
    "conda install -c conda-forge nb_conda_kernels"
   ]
  },
  {
   "cell_type": "markdown",
   "metadata": {},
   "source": [
    "za zagon uporabi naslednji ukaz v command prompt"
   ]
  },
  {
   "cell_type": "code",
   "execution_count": null,
   "metadata": {},
   "outputs": [],
   "source": [
    "jupyter notebook\n"
   ]
  },
  {
   "cell_type": "code",
   "execution_count": null,
   "metadata": {},
   "outputs": [],
   "source": [
    "import pandas as pd\n",
    "import matplotlib.pyplot as plt \n",
    "\n",
    "import numpy as np\n",
    "import wbgapi as wb   # I use wb as a namespace in all my work\n",
    "\n",
    "\n",
    "wb_info= wb.source.info() # especially useful for seeing what databases are available\n",
    "\n",
    "print(wb_info)\n",
    "\n",
    "\n",
    "df = wb.data.DataFrame('SI.POV.NAHC', time=range(2016, 2022), labels= True)\n",
    "\n",
    "data_top = df.head() \n",
    "df.sort_values('Country')\n",
    "    \n",
    "# display \n",
    "print(data_top, '/n') \n",
    "print(df) \n",
    "\n",
    "# The scope of these changes made to\n",
    "# pandas settings are local to with statement.\n",
    "with pd.option_context('display.max_rows', None,\n",
    "                       'display.max_columns', None,\n",
    "                       'display.precision', 3,\n",
    "                       ):\n",
    "    print(df)\n",
    "\n",
    "\n",
    "#https://gist.github.com/stevewithington/20a69c0b6d2ff846ea5d35e5fc47f26c#file-country-and-continent-codes-list-csv-csv\n",
    "\n",
    "url = \"https://gist.github.com/stevewithington/20a69c0b6d2ff846ea5d35e5fc47f26c/raw/13716ceb2f22b5643ce5e7039643c86a0e0c6da6/country-and-continent-codes-list-csv.csv\"\n",
    "df1 = pd.read_csv(url)\n",
    "with pd.option_context('display.max_rows', None,\n",
    "                       'display.max_columns', None,\n",
    "                       'display.precision', 3,\n",
    "                       ):\n",
    "    print(df1)\n",
    "\n",
    "print(df1) \n",
    "df.info()\n",
    "df1.info()\n",
    "\n",
    "# Select first column of the dataframe as a series\n",
    "fc= first_column = df.iloc[:, 0]\n",
    "print (fc)\n",
    "\n",
    "df_i= df.index \n",
    "print(df_i)\n",
    "print('tip spremenljivke')\n",
    "print(type(df_i))\n",
    "df.assign(Three_Letter_Country_Code  = df.index)\n",
    "data_top = df.head() \n",
    "df.sort_values('Country')\n",
    "    \n",
    "# display \n",
    "print(data_top, '/n') \n",
    "print(df) \n",
    "df['Three_Letter_Country_Code'] = 'USA'\n",
    "df['Three_Letter_Country_Code'] = df.index\n",
    "print(df.head(5))"
   ]
  }
 ],
 "metadata": {
  "kernelspec": {
   "display_name": "Python 3.7.5 ('base')",
   "language": "python",
   "name": "python3"
  },
  "language_info": {
   "name": "python",
   "version": "3.7.5"
  },
  "orig_nbformat": 4,
  "vscode": {
   "interpreter": {
    "hash": "ad2bdc8ecc057115af97d19610ffacc2b4e99fae6737bb82f5d7fb13d2f2c186"
   }
  }
 },
 "nbformat": 4,
 "nbformat_minor": 2
}
